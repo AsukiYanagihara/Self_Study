{
 "cells": [
  {
   "cell_type": "code",
   "execution_count": 2,
   "metadata": {},
   "outputs": [],
   "source": [
    "import numpy as np"
   ]
  },
  {
   "cell_type": "code",
   "execution_count": 15,
   "metadata": {},
   "outputs": [],
   "source": [
    "kappa = 1.1e-7         # [m2/s]\n",
    "temp_init = 10.0       # [C]\n",
    "temp_boundary = 100.0  # [C]\n",
    "rmax = 4 * 0.01 * 0.5  # half-diameter [m]\n",
    "a_factor = 0.0         # 0 for slab, 1 for cylinder, 2 for sphere\n",
    "\n",
    "tmax = 100.0 * 1.5 * (rmax / 0.005) ** 2\n",
    "delta_t = 0.01 * (rmax / 0.005) ** 2\n",
    "delta_r = rmax / 25.0\n",
    "nr = int(rmax / delta_r)\n",
    "nstep = int(tmax / delta_t)\n",
    "plot_intvl = 200"
   ]
  },
  {
   "cell_type": "code",
   "execution_count": 16,
   "metadata": {},
   "outputs": [],
   "source": [
    "def time_derivative(temperature):\n",
    "    r = np.linspace(0, rmax, nr, endpoint=True) - delta_r / 2\n",
    "    dtdt = np.empty((nr,))\n",
    "    dtdt[-1] = 0.0     # outer boundary condition (constant)\n",
    "    dtdt[1:-1] = kappa * \\\n",
    "        ((temperature[2:] - 2.0 * temperature[1:-1] + temperature[0:-2]) / (delta_r * delta_r) \\\n",
    "         + a_factor / r[1:-1] * (temperature[2:] - temperature[0:-2]) / (2 * delta_r))\n",
    "    dtdt[0] = dtdt[1]  # inner boundary condition temperature[0] = temperature[1]\n",
    "    return dtdt"
   ]
  },
  {
   "cell_type": "code",
   "execution_count": 20,
   "metadata": {},
   "outputs": [
    {
     "ename": "IndentationError",
     "evalue": "unexpected indent (<ipython-input-20-f702e8e2c54e>, line 2)",
     "output_type": "error",
     "traceback": [
      "\u001b[1;36m  File \u001b[1;32m\"<ipython-input-20-f702e8e2c54e>\"\u001b[1;36m, line \u001b[1;32m2\u001b[0m\n\u001b[1;33m    temperature[-1] = temp_boundary\u001b[0m\n\u001b[1;37m    ^\u001b[0m\n\u001b[1;31mIndentationError\u001b[0m\u001b[1;31m:\u001b[0m unexpected indent\n"
     ]
    }
   ],
   "source": [
    "temperature = np.full((nr,), temp_init)\n",
    "    temperature[-1] = temp_boundary"
   ]
  },
  {
   "cell_type": "code",
   "execution_count": 21,
   "metadata": {},
   "outputs": [
    {
     "ename": "NameError",
     "evalue": "name 'temperature' is not defined",
     "output_type": "error",
     "traceback": [
      "\u001b[1;31m---------------------------------------------------------------------------\u001b[0m",
      "\u001b[1;31mNameError\u001b[0m                                 Traceback (most recent call last)",
      "\u001b[1;32m<ipython-input-21-8296639e9232>\u001b[0m in \u001b[0;36m<module>\u001b[1;34m()\u001b[0m\n\u001b[0;32m      2\u001b[0m         \u001b[1;31m#if (i % plot_intvl == 0):\u001b[0m\u001b[1;33m\u001b[0m\u001b[1;33m\u001b[0m\u001b[0m\n\u001b[0;32m      3\u001b[0m         \u001b[1;31m#    plot_snap(temperature, i)\u001b[0m\u001b[1;33m\u001b[0m\u001b[1;33m\u001b[0m\u001b[0m\n\u001b[1;32m----> 4\u001b[1;33m         \u001b[0mdtdt\u001b[0m \u001b[1;33m=\u001b[0m \u001b[0mtime_derivative\u001b[0m\u001b[1;33m(\u001b[0m\u001b[0mtemperature\u001b[0m\u001b[1;33m)\u001b[0m\u001b[1;33m\u001b[0m\u001b[0m\n\u001b[0m\u001b[0;32m      5\u001b[0m         \u001b[0mtemperature\u001b[0m\u001b[1;33m[\u001b[0m\u001b[1;33m:\u001b[0m\u001b[1;33m]\u001b[0m \u001b[1;33m=\u001b[0m \u001b[0mtemperature\u001b[0m\u001b[1;33m[\u001b[0m\u001b[1;33m:\u001b[0m\u001b[1;33m]\u001b[0m \u001b[1;33m+\u001b[0m \u001b[0mdelta_t\u001b[0m \u001b[1;33m*\u001b[0m \u001b[0mdtdt\u001b[0m\u001b[1;33m[\u001b[0m\u001b[1;33m:\u001b[0m\u001b[1;33m]\u001b[0m\u001b[1;33m\u001b[0m\u001b[0m\n",
      "\u001b[1;31mNameError\u001b[0m: name 'temperature' is not defined"
     ]
    }
   ],
   "source": [
    "for i in range(nstep):\n",
    "        #if (i % plot_intvl == 0):\n",
    "        #    plot_snap(temperature, i)\n",
    "        dtdt = time_derivative(temperature)\n",
    "        temperature[:] = temperature[:] + delta_t * dtdt[:]"
   ]
  },
  {
   "cell_type": "code",
   "execution_count": null,
   "metadata": {},
   "outputs": [],
   "source": []
  },
  {
   "cell_type": "code",
   "execution_count": 12,
   "metadata": {},
   "outputs": [
    {
     "data": {
      "text/plain": [
       "array([-0.0004    ,  0.00043333,  0.00126667,  0.0021    ,  0.00293333,\n",
       "        0.00376667,  0.0046    ,  0.00543333,  0.00626667,  0.0071    ,\n",
       "        0.00793333,  0.00876667,  0.0096    ,  0.01043333,  0.01126667,\n",
       "        0.0121    ,  0.01293333,  0.01376667,  0.0146    ,  0.01543333,\n",
       "        0.01626667,  0.0171    ,  0.01793333,  0.01876667,  0.0196    ])"
      ]
     },
     "execution_count": 12,
     "metadata": {},
     "output_type": "execute_result"
    }
   ],
   "source": [
    "r"
   ]
  },
  {
   "cell_type": "code",
   "execution_count": 13,
   "metadata": {},
   "outputs": [],
   "source": [
    "dTdt = np.empty((nr,))"
   ]
  },
  {
   "cell_type": "code",
   "execution_count": 14,
   "metadata": {},
   "outputs": [
    {
     "data": {
      "text/plain": [
       "array([0.0004    , 0.00043333, 0.00126667, 0.0021    , 0.00293333,\n",
       "       0.00376667, 0.0046    , 0.00543333, 0.00626667, 0.0071    ,\n",
       "       0.00793333, 0.00876667, 0.0096    , 0.01043333, 0.01126667,\n",
       "       0.0121    , 0.01293333, 0.01376667, 0.0146    , 0.01543333,\n",
       "       0.01626667, 0.0171    , 0.01793333, 0.01876667, 0.0196    ])"
      ]
     },
     "execution_count": 14,
     "metadata": {},
     "output_type": "execute_result"
    }
   ],
   "source": [
    "dTdt"
   ]
  },
  {
   "cell_type": "code",
   "execution_count": null,
   "metadata": {},
   "outputs": [],
   "source": []
  }
 ],
 "metadata": {
  "kernelspec": {
   "display_name": "Python 3",
   "language": "python",
   "name": "python3"
  },
  "language_info": {
   "codemirror_mode": {
    "name": "ipython",
    "version": 3
   },
   "file_extension": ".py",
   "mimetype": "text/x-python",
   "name": "python",
   "nbconvert_exporter": "python",
   "pygments_lexer": "ipython3",
   "version": "3.6.5"
  }
 },
 "nbformat": 4,
 "nbformat_minor": 2
}
