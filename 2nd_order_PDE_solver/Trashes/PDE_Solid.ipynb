{
 "cells": [
  {
   "cell_type": "markdown",
   "metadata": {},
   "source": [
    "固体内拡散に関するPDE/Govenig equation\n",
    "\\begin{equation*}\n",
    "  \\frac{\\partial C_s(r, t)}{\\partial t} = \\frac{D_s}{r^2}\\frac{\\partial}{\\partial r}\\left(r^2\\frac{\\partial C_s(r, t)}{\\partial r}\\right) \\\\\n",
    "  \\frac{\\partial C_s(r, t)}{\\partial t} = D_s\\left(\\frac{2}{r}\\frac{\\partial C_s(r, t)}{\\partial r}+\\frac{\\partial^2 C_s(r, t)}{\\partial r^2}\\right)\n",
    "\\end{equation*}"
   ]
  },
  {
   "cell_type": "markdown",
   "metadata": {},
   "source": [
    "境界条件\n",
    "\\begin{equation*}\n",
    "\\frac{\\partial C_s}{\\partial r} \\vert _{r=r_i} = 0 \\\\\n",
    "- D_s\\frac{\\partial C_s}{\\partial r} \\vert _{r=r_0} = \\frac{J_{Li}}{a_sF} \\\\\n",
    "\\end{equation*}"
   ]
  },
  {
   "cell_type": "markdown",
   "metadata": {},
   "source": [
    "about J_Li\n",
    "\\begin{equation*}\n",
    "J_{Li} = \\frac{I}{A}.....\\tt{(constant)}\n",
    "\\end{equation*}"
   ]
  },
  {
   "cell_type": "code",
   "execution_count": 21,
   "metadata": {},
   "outputs": [],
   "source": [
    "import numpy as np\n",
    "from scipy.integrate import odeint"
   ]
  },
  {
   "cell_type": "code",
   "execution_count": 33,
   "metadata": {},
   "outputs": [],
   "source": [
    "# initial parameter\n",
    "N, L = 200, 40 #長さL をN個に区切る\n",
    "dr = L / N\n",
    "t_max, t_div = 1000, 50\n",
    "t = np.linspace(0, t_max, t_div) \n",
    "dt = t_max/t_div\n",
    "r = np.linspace(0, N, L)\n",
    "C0=1\n",
    "Ds = 0.002\n",
    "a_s = 0.2\n",
    "F = 96500\n",
    "J_Li = 0.1 #(mol/lsec-1)\n",
    "\n",
    "#境界条件\n",
    "dC_r_0_dr_0 = J_Li/a_s/F/-Ds\n",
    "\n",
    "#import sys\n",
    "#sys.setrecursionlimit(100)"
   ]
  },
  {
   "cell_type": "code",
   "execution_count": 23,
   "metadata": {},
   "outputs": [],
   "source": [
    "#t = 0,  C(r, 0)\n",
    "C_s = np.ones(L)*C0 #mol%"
   ]
  },
  {
   "cell_type": "code",
   "execution_count": 41,
   "metadata": {},
   "outputs": [
    {
     "data": {
      "text/plain": [
       "array([0., 0., 0., 0., 0., 0., 0., 0., 0., 0., 0., 0., 0., 0., 0., 0., 0.,\n",
       "       0., 0., 0., 0., 0., 0., 0., 0., 0., 0., 0., 0., 0., 0., 0., 0., 0.,\n",
       "       0., 0., 0., 0., 0., 0.])"
      ]
     },
     "execution_count": 41,
     "metadata": {},
     "output_type": "execute_result"
    }
   ],
   "source": [
    "np.gradient(C_s, dr)"
   ]
  },
  {
   "cell_type": "code",
   "execution_count": 45,
   "metadata": {},
   "outputs": [
    {
     "name": "stderr",
     "output_type": "stream",
     "text": [
      "C:\\Users\\ayana\\Anaconda3\\lib\\site-packages\\ipykernel_launcher.py:2: RuntimeWarning: divide by zero encountered in true_divide\n",
      "  \n"
     ]
    },
    {
     "ename": "ValueError",
     "evalue": "operands could not be broadcast together with shapes (40,) (80,) ",
     "output_type": "error",
     "traceback": [
      "\u001b[1;31m---------------------------------------------------------------------------\u001b[0m",
      "\u001b[1;31mValueError\u001b[0m                                Traceback (most recent call last)",
      "\u001b[1;32m<ipython-input-45-bc050bbab8c0>\u001b[0m in \u001b[0;36m<module>\u001b[1;34m()\u001b[0m\n\u001b[0;32m      1\u001b[0m \u001b[1;32mfor\u001b[0m \u001b[0mk\u001b[0m \u001b[1;32min\u001b[0m \u001b[0mrange\u001b[0m\u001b[1;33m(\u001b[0m\u001b[0mlen\u001b[0m\u001b[1;33m(\u001b[0m\u001b[0mt\u001b[0m\u001b[1;33m)\u001b[0m\u001b[1;33m)\u001b[0m\u001b[1;33m:\u001b[0m\u001b[1;33m\u001b[0m\u001b[0m\n\u001b[1;32m----> 2\u001b[1;33m     \u001b[0mC_s\u001b[0m \u001b[1;33m=\u001b[0m \u001b[0mnp\u001b[0m\u001b[1;33m.\u001b[0m\u001b[0mappend\u001b[0m\u001b[1;33m(\u001b[0m\u001b[0mC_s\u001b[0m\u001b[1;33m,\u001b[0m \u001b[0mdt\u001b[0m\u001b[1;33m*\u001b[0m\u001b[0mDs\u001b[0m\u001b[1;33m*\u001b[0m\u001b[1;33m(\u001b[0m\u001b[1;36m2\u001b[0m\u001b[1;33m/\u001b[0m\u001b[0mr\u001b[0m\u001b[1;33m*\u001b[0m\u001b[0mnp\u001b[0m\u001b[1;33m.\u001b[0m\u001b[0mgradient\u001b[0m\u001b[1;33m(\u001b[0m\u001b[0mC_s\u001b[0m\u001b[1;33m,\u001b[0m \u001b[0mdr\u001b[0m\u001b[1;33m)\u001b[0m \u001b[1;33m+\u001b[0m  \u001b[0mnp\u001b[0m\u001b[1;33m.\u001b[0m\u001b[0mgradient\u001b[0m\u001b[1;33m(\u001b[0m\u001b[0mnp\u001b[0m\u001b[1;33m.\u001b[0m\u001b[0mgradient\u001b[0m\u001b[1;33m(\u001b[0m\u001b[0mC_s\u001b[0m\u001b[1;33m,\u001b[0m \u001b[0mdr\u001b[0m\u001b[1;33m)\u001b[0m\u001b[1;33m,\u001b[0m \u001b[0mdr\u001b[0m\u001b[1;33m)\u001b[0m\u001b[1;33m)\u001b[0m\u001b[1;33m+\u001b[0m \u001b[0mC_s\u001b[0m\u001b[1;33m,\u001b[0m \u001b[0maxis\u001b[0m\u001b[1;33m=\u001b[0m\u001b[1;36m0\u001b[0m\u001b[1;33m)\u001b[0m\u001b[1;33m\u001b[0m\u001b[0m\n\u001b[0m\u001b[0;32m      3\u001b[0m     \u001b[1;31m#C_s[k+1] = dt*Ds*(2/r*np.gradient(C_s[k], dr) +  np.gardient(np.gradient(C_s[k], dr), dr))+ C_s[k]\u001b[0m\u001b[1;33m\u001b[0m\u001b[1;33m\u001b[0m\u001b[0m\n",
      "\u001b[1;31mValueError\u001b[0m: operands could not be broadcast together with shapes (40,) (80,) "
     ]
    }
   ],
   "source": [
    "for k in range(len(t)):\n",
    "    C_s = np.append(C_s, dt*Ds*(2/r*np.gradient(C_s, dr) +  np.gradient(np.gradient(C_s, dr), dr))+ C_s, axis=0)\n",
    "    #C_s[k+1] = dt*Ds*(2/r*np.gradient(C_s[k], dr) +  np.gardient(np.gradient(C_s[k], dr), dr))+ C_s[k]"
   ]
  },
  {
   "cell_type": "code",
   "execution_count": null,
   "metadata": {},
   "outputs": [],
   "source": []
  },
  {
   "cell_type": "code",
   "execution_count": null,
   "metadata": {},
   "outputs": [],
   "source": [
    "def d_Cs(r, t=0):\n",
    "    dr =  L / N\n",
    "    return Ds*(2/r*(r+1-r) + np.gardient((r+1-r)), dr))\n",
    "    #return Ds*(2/r*d_Cs(dr, t) + np.gardient(d_Cs(dr, t), dr))"
   ]
  },
  {
   "cell_type": "code",
   "execution_count": 15,
   "metadata": {},
   "outputs": [
    {
     "name": "stdout",
     "output_type": "stream",
     "text": [
      "type(fig): <class 'matplotlib.figure.Figure'>\n"
     ]
    },
    {
     "data": {
      "image/png": "[encoded data removed]",
      "text/plain": [
       "<Figure size 432x288 with 1 Axes>"
      ]
     },
     "metadata": {},
     "output_type": "display_data"
    }
   ],
   "source": [
    "import matplotlib.pyplot as plt\n",
    "import matplotlib.pyplot as plt\n",
    "fig = plt.figure() #figsize=(16,9))\n",
    "print(\"type(fig): {}\".format(type(fig))) #わからん\n",
    "\n",
    "#2 Axesのインスタンス作成\n",
    "#ax3 = fig.add_subplot(121)\n",
    "ax1 = fig.add_subplot(111)\n",
    "\n",
    "#3 データを渡してプロット\n",
    "ax1.plot(r, C_r_0, label='exp.')\n",
    "\n",
    "ax1.set_xlabel(\"$x in Li_{1-x}CoO_2$\")\n",
    "ax1.set_ylabel(\"$Potential [V (v.s. Li/Li^+)]$\")\n",
    "\n",
    "ax1.legend()\n",
    "\n",
    "fig.tight_layout() #かぶり\n",
    "\n",
    "plt.show()\n",
    "#ax2.plot(x, trajectories)"
   ]
  },
  {
   "cell_type": "code",
   "execution_count": 34,
   "metadata": {},
   "outputs": [],
   "source": [
    "def d_Cs(r, t):\n",
    "    dr =  L / N\n",
    "    return Ds*(2/r*d_Cs(dr, t) + np.gardient(d_Cs(dr, t), dr))"
   ]
  },
  {
   "cell_type": "code",
   "execution_count": 35,
   "metadata": {},
   "outputs": [
    {
     "ename": "SyntaxError",
     "evalue": "can't assign to function call (<ipython-input-35-e8054500e02b>, line 1)",
     "output_type": "error",
     "traceback": [
      "\u001b[1;36m  File \u001b[1;32m\"<ipython-input-35-e8054500e02b>\"\u001b[1;36m, line \u001b[1;32m1\u001b[0m\n\u001b[1;33m    d_Cs(0, t) =  J_Li/a_s/F/-Ds\u001b[0m\n\u001b[1;37m                                ^\u001b[0m\n\u001b[1;31mSyntaxError\u001b[0m\u001b[1;31m:\u001b[0m can't assign to function call\n"
     ]
    }
   ],
   "source": [
    "d_Cs(0, t) =  J_Li/a_s/F/-Ds"
   ]
  },
  {
   "cell_type": "code",
   "execution_count": 36,
   "metadata": {},
   "outputs": [
    {
     "ename": "SyntaxError",
     "evalue": "can't assign to function call (<ipython-input-36-2e81118c7041>, line 1)",
     "output_type": "error",
     "traceback": [
      "\u001b[1;36m  File \u001b[1;32m\"<ipython-input-36-2e81118c7041>\"\u001b[1;36m, line \u001b[1;32m1\u001b[0m\n\u001b[1;33m    d_Cs(r, 0) = 1.0\u001b[0m\n\u001b[1;37m                    ^\u001b[0m\n\u001b[1;31mSyntaxError\u001b[0m\u001b[1;31m:\u001b[0m can't assign to function call\n"
     ]
    }
   ],
   "source": [
    "d_Cs(r, 0) = 1.0"
   ]
  },
  {
   "cell_type": "code",
   "execution_count": null,
   "metadata": {},
   "outputs": [],
   "source": [
    "Cs =  odeint(d_Cs(r, t), d_Cs(r, 0), t, args=(N, L))"
   ]
  }
 ],
 "metadata": {
  "kernelspec": {
   "display_name": "Python 3",
   "language": "python",
   "name": "python3"
  },
  "language_info": {
   "codemirror_mode": {
    "name": "ipython",
    "version": 3
   },
   "file_extension": ".py",
   "mimetype": "text/x-python",
   "name": "python",
   "nbconvert_exporter": "python",
   "pygments_lexer": "ipython3",
   "version": "3.6.5"
  }
 },
 "nbformat": 4,
 "nbformat_minor": 2
}
