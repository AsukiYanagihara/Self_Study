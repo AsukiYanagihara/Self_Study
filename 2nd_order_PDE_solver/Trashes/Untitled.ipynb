{
 "cells": [
  {
   "cell_type": "code",
   "execution_count": null,
   "metadata": {},
   "outputs": [],
   "source": [
    "\"\"\"\n",
    "できれば任意関数のPDE_solberをつくりたい\n"
   ]
  },
  {
   "cell_type": "markdown",
   "metadata": {},
   "source": [
    "固体内拡散に関するPDE/Govenig equation\n",
    "\\begin{equation*}\n",
    "  \\frac{\\partial C_s(r, t)}{\\partial t} = \\frac{D_s}{r^2}\\frac{\\partial}{\\partial r}\\left(r^2\\frac{\\partial C_s(r, t)}{\\partial r}\\right)\\\\\n",
    "\\\\\n",
    "\\end{equation*}\n",
    "境界条件\n",
    "\\begin{equation*}\n",
    "\\frac{\\partial C_s}{\\partial r} \\vert _{r=r_i} = 0 \\\\\n",
    "- D_s\\frac{\\partial C_s}{\\partial r} \\vert _{r=r_0} = \\frac{J_{Li}}{a_sF} \\\\\n",
    "\\\\\n",
    "\\end{equation*}\n",
    "about J_Li\n",
    "\\begin{equation*}\n",
    "J_{Li} = \\frac{I}{A}.....\\tt{(constant)}\n",
    "\\end{equation*}"
   ]
  },
  {
   "cell_type": "code",
   "execution_count": null,
   "metadata": {},
   "outputs": [],
   "source": []
  }
 ],
 "metadata": {
  "kernelspec": {
   "display_name": "Python 3",
   "language": "python",
   "name": "python3"
  },
  "language_info": {
   "codemirror_mode": {
    "name": "ipython",
    "version": 3
   },
   "file_extension": ".py",
   "mimetype": "text/x-python",
   "name": "python",
   "nbconvert_exporter": "python",
   "pygments_lexer": "ipython3",
   "version": "3.6.5"
  }
 },
 "nbformat": 4,
 "nbformat_minor": 2
}
