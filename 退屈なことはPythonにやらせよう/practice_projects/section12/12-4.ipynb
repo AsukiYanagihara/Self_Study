{
 "cells": [
  {
   "cell_type": "code",
   "execution_count": null,
   "metadata": {},
   "outputs": [],
   "source": [
    "# -*- coding: utf-8 -*-"
   ]
  },
  {
   "cell_type": "markdown",
   "metadata": {},
   "source": [
    "退屈なことはPythonにやらせよう\n",
    "12章 エクセルシート\n",
    "12.4スプレッドシートからデータを読み込む"
   ]
  },
  {
   "cell_type": "code",
   "execution_count": null,
   "metadata": {},
   "outputs": [],
   "source": [
    "\"\"\"\n",
    "To DO\n",
    "・エクセルのスプレッドシートからデータを読み込む\n",
    "・各郡の人口調査地域の数を数える\n",
    "・各郡の人口の合計を求める\n",
    "・結果を表示する\n",
    "＿Coding＿\n",
    "openpyxlモジュールを用いてExcel文書を開き、セルを読み込む\n",
    "人口調査標準地域と人口を集計してデータ構造に格納する\n",
    "pprintモジュールを用いて、拡張子.pyのテキストファイルにデータ構造を書き込む\n",
    "\"\"\""
   ]
  },
  {
   "cell_type": "code",
   "execution_count": 8,
   "metadata": {},
   "outputs": [
    {
     "name": "stdout",
     "output_type": "stream",
     "text": [
      "ワークブックを開いています\n"
     ]
    },
    {
     "name": "stderr",
     "output_type": "stream",
     "text": [
      "C:\\Users\\ayana\\Anaconda3\\lib\\site-packages\\ipykernel_launcher.py:5: DeprecationWarning: Call to deprecated function get_sheet_by_name (Use wb[sheetname]).\n",
      "  \"\"\"\n"
     ]
    },
    {
     "name": "stdout",
     "output_type": "stream",
     "text": [
      "結果書き込み中\n",
      "完了\n"
     ]
    }
   ],
   "source": [
    "#スプレッドシートのデータを読み込む\n",
    "import openpyxl, pprint\n",
    "print('ワークブックを開いています')\n",
    "wb = openpyxl.load_workbook('censuspopdata.xlsx')\n",
    "sheet = wb.get_sheet_by_name('Population by Census Tract')\n",
    "country_data = {}\n",
    "\n",
    "#To Do: Country Dataに群の人口と地域数を格納する\n",
    "for row in range(2, sheet.max_row + 1):\n",
    "    #スプレッドシートの1行に、ひとつの人口調査標準地域のデータがある\n",
    "    state = sheet['B' + str(row)].value\n",
    "    country = sheet['C' + str(row)].value\n",
    "    pop = sheet['D' + str(row)].value\n",
    "    \n",
    "    #この州のキーが確実に存在するようにする\n",
    "    country_data.setdefault(state, {})\n",
    "    #この州のこの群のキーが確実に存在するようにする\n",
    "    country_data[state].setdefault(country, {'tracts':0, 'pop':0})\n",
    "\n",
    "    #各行が人口調査標準地域を表すので、数を一つ増やす\n",
    "    country_data[state][country]['tracts'] += 1\n",
    "    #この人工調査標準地域の人口だけ群の人口を増やす\n",
    "    country_data[state][country]['pop'] += int(pop)\n",
    "    \n",
    "#To Do: 新しいテキストファイルを開き、Country_dataの内容を書き込む\n",
    "print('結果書き込み中')\n",
    "result_file = open('census2010.py', 'w')\n",
    "result_file.write('all_data = ' + pprint.pformat(country_data))\n",
    "result_file.close()\n",
    "print('完了')\n"
   ]
  },
  {
   "cell_type": "code",
   "execution_count": null,
   "metadata": {},
   "outputs": [],
   "source": []
  }
 ],
 "metadata": {
  "kernelspec": {
   "display_name": "Python 3",
   "language": "python",
   "name": "python3"
  },
  "language_info": {
   "codemirror_mode": {
    "name": "ipython",
    "version": 3
   },
   "file_extension": ".py",
   "mimetype": "text/x-python",
   "name": "python",
   "nbconvert_exporter": "python",
   "pygments_lexer": "ipython3",
   "version": "3.6.5"
  }
 },
 "nbformat": 4,
 "nbformat_minor": 2
}
